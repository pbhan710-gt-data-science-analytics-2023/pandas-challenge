{
 "cells": [
  {
   "cell_type": "markdown",
   "id": "7400db10",
   "metadata": {},
   "source": [
    "# Aggregate Data\n",
    "Your task is to aggregate the data to showcase obvious trends in school performance."
   ]
  },
  {
   "cell_type": "markdown",
   "id": "fee32faa",
   "metadata": {},
   "source": [
    "## 0. Setup"
   ]
  },
  {
   "cell_type": "markdown",
   "id": "2e7d0b2f",
   "metadata": {},
   "source": [
    "**- Import dependencies.**"
   ]
  },
  {
   "cell_type": "code",
   "execution_count": 1,
   "id": "7289bc34",
   "metadata": {},
   "outputs": [],
   "source": [
    "import pandas as pd"
   ]
  },
  {
   "cell_type": "markdown",
   "id": "bccc9617",
   "metadata": {},
   "source": [
    "**- Access schools and students data in CSV files and store into DataFrames.**"
   ]
  },
  {
   "cell_type": "code",
   "execution_count": 2,
   "id": "d199e196",
   "metadata": {},
   "outputs": [],
   "source": [
    "# Store file path strings into variables.\n",
    "sch_fp = 'Resources/schools_complete.csv'\n",
    "stu_fp = 'Resources/students_complete.csv'\n",
    "\n",
    "# Store schools and students data from CSVs into DataFrames.\n",
    "sch_df = pd.read_csv(sch_fp, delimiter=',')\n",
    "stu_df = pd.read_csv(stu_fp, delimiter=',')"
   ]
  },
  {
   "cell_type": "markdown",
   "id": "0978c631",
   "metadata": {},
   "source": [
    "**- Rename columns in the Schools and Students DataFrames.** "
   ]
  },
  {
   "cell_type": "code",
   "execution_count": 3,
   "id": "ac76800c",
   "metadata": {},
   "outputs": [],
   "source": [
    "sch_df = sch_df.rename(\n",
    "    columns = {\n",
    "        'school_name': 'School Name', 'type': 'Type', 'size': 'Size', 'budget': 'Budget'\n",
    "    }\n",
    ")\n",
    "stu_df = stu_df.rename(\n",
    "    columns = {\n",
    "        'student_name': 'Student Name', 'gender': 'Gender', 'grade': 'Grade', 'budget': 'Budget', \n",
    "        'school_name': 'School Name', 'reading_score': 'Reading Score', 'math_score': 'Math Score'\n",
    "    }\n",
    ")"
   ]
  },
  {
   "cell_type": "markdown",
   "id": "4c018cfd",
   "metadata": {},
   "source": [
    "## 1. District Summary\n",
    "Create a high-level snapshot, in a DataFrame, of the district's key metrics, including the following:\n",
    "\n",
    "* Total schools\n",
    "* Total students\n",
    "* Total budget\n",
    "* Average math score\n",
    "* Average reading score\n",
    "* % passing math (the percentage of students who passed math)\n",
    "* % passing reading (the percentage of students who passed reading)\n",
    "* % overall passing (the percentage of students who passed math AND reading)"
   ]
  },
  {
   "cell_type": "markdown",
   "id": "b9fcf699",
   "metadata": {},
   "source": [
    "**- Create DataFrames that filter the Student DataFrame based on passing criteria.**\n",
    "- Referred to for passing metrics."
   ]
  },
  {
   "cell_type": "code",
   "execution_count": 13,
   "id": "f713bec7",
   "metadata": {},
   "outputs": [],
   "source": [
    "# Students Who Passed Math (i.e., 70 or greater under \"Math Score\")\n",
    "pass_math_df = stu_df.loc[stu_df['Math Score'] >= 70]\n",
    "\n",
    "# Students Who Passed Reading (i.e., 70 or greater under \"Reading Score\")\n",
    "pass_read_df = stu_df.loc[stu_df['Reading Score'] >= 70]\n",
    "\n",
    "# Students Who Passed Math and Reading (i.e., 70 or greater under \"Math Score\" and \"Reading Score\")\n",
    "pass_both_df = stu_df.loc[(stu_df['Math Score'] >= 70) & (stu_df['Reading Score'] >= 70)]"
   ]
  },
  {
   "cell_type": "markdown",
   "id": "ece9cbc6",
   "metadata": {},
   "source": [
    "**- Calculate district's key metrics and store in variables.**"
   ]
  },
  {
   "cell_type": "code",
   "execution_count": 5,
   "id": "6beeb32e",
   "metadata": {},
   "outputs": [],
   "source": [
    "# Total Schools\n",
    "sch_cnt = len(sch_df)\n",
    "\n",
    "# Total Students\n",
    "stu_cnt = len(stu_df)\n",
    "\n",
    "# Total Budget\n",
    "bgt_ttl = sch_df['Budget'].sum()\n",
    "\n",
    "# Average Math Score\n",
    "math_avg = stu_df['Math Score'].mean()\n",
    "\n",
    "# Average Reading Score\n",
    "read_avg = stu_df['Reading Score'].mean()\n",
    "\n",
    "# % Passing Math (i.e., the percentage of students who passed math)\n",
    "pass_math_pct = (len(pass_math_df) / stu_cnt) * 100\n",
    "\n",
    "# % Passing Reading (i.e., the percentage of students who passed reading)\n",
    "pass_read_pct = (len(pass_read_df) / stu_cnt) * 100\n",
    "\n",
    "# % Overall Passing (i.e., the percentage of students who passed math and reading)\n",
    "pass_both_pct = (len(pass_both_df) / stu_cnt) * 100"
   ]
  },
  {
   "cell_type": "markdown",
   "id": "b8f28c07",
   "metadata": {},
   "source": [
    "**- Create the District Summary DataFrame with variables containing key metrics for high-level snapshot of the district.**"
   ]
  },
  {
   "cell_type": "code",
   "execution_count": 81,
   "id": "574e308c",
   "metadata": {
    "scrolled": true
   },
   "outputs": [],
   "source": [
    "dist_summ_df = pd.DataFrame([\n",
    "    {\n",
    "        'Total Schools': sch_cnt,\n",
    "        'Total Students': stu_cnt,\n",
    "        'Total Budget': bgt_ttl,\n",
    "        'Average Math Score': math_avg,\n",
    "        'Average Reading Score': read_avg,\n",
    "        '% Passing Math': pass_math_pct,\n",
    "        '% Passing Reading': pass_read_pct,\n",
    "        '% Overall Passing': pass_both_pct\n",
    "    }\n",
    "])"
   ]
  },
  {
   "cell_type": "markdown",
   "id": "9c536a1d",
   "metadata": {},
   "source": [
    "**- Create copy of the District Summary DataFrame to separate formatting transformations from underlying data.**"
   ]
  },
  {
   "cell_type": "code",
   "execution_count": 87,
   "id": "9030ac96",
   "metadata": {},
   "outputs": [],
   "source": [
    "dist_summ_disp_df = dist_summ_df.copy()"
   ]
  },
  {
   "cell_type": "markdown",
   "id": "d563d4c4",
   "metadata": {},
   "source": [
    "**- Apply formatting to the metrics in the copied District Summary DataFrame.**"
   ]
  },
  {
   "cell_type": "code",
   "execution_count": 88,
   "id": "d9af1769",
   "metadata": {},
   "outputs": [],
   "source": [
    "dist_summ_disp_df['Total Schools'] = dist_summ_df['Total Schools'].map(\"{:,}\".format)\n",
    "dist_summ_disp_df['Total Students'] = dist_summ_df['Total Students'].map(\"{:,}\".format)\n",
    "dist_summ_disp_df['Total Budget'] = dist_summ_df['Total Budget'].map(\"${:,.2f}\".format)\n",
    "dist_summ_disp_df['% Passing Math'] = dist_summ_df['% Passing Math'].map(\"{:.2f}%\".format)\n",
    "dist_summ_disp_df['% Passing Reading'] = dist_summ_df['% Passing Reading'].map(\"{:.2f}%\".format)\n",
    "dist_summ_disp_df['% Overall Passing'] = dist_summ_df['% Overall Passing'].map(\"{:.2f}%\".format)"
   ]
  },
  {
   "cell_type": "markdown",
   "id": "f7e5a8af",
   "metadata": {},
   "source": [
    "**- Display the copied District Summary DataFrame.**"
   ]
  },
  {
   "cell_type": "code",
   "execution_count": 89,
   "id": "9b6efdd7",
   "metadata": {},
   "outputs": [
    {
     "data": {
      "text/html": [
       "<div>\n",
       "<style scoped>\n",
       "    .dataframe tbody tr th:only-of-type {\n",
       "        vertical-align: middle;\n",
       "    }\n",
       "\n",
       "    .dataframe tbody tr th {\n",
       "        vertical-align: top;\n",
       "    }\n",
       "\n",
       "    .dataframe thead th {\n",
       "        text-align: right;\n",
       "    }\n",
       "</style>\n",
       "<table border=\"1\" class=\"dataframe\">\n",
       "  <thead>\n",
       "    <tr style=\"text-align: right;\">\n",
       "      <th></th>\n",
       "      <th>Total Schools</th>\n",
       "      <th>Total Students</th>\n",
       "      <th>Total Budget</th>\n",
       "      <th>Average Math Score</th>\n",
       "      <th>Average Reading Score</th>\n",
       "      <th>% Passing Math</th>\n",
       "      <th>% Passing Reading</th>\n",
       "      <th>% Overall Passing</th>\n",
       "    </tr>\n",
       "  </thead>\n",
       "  <tbody>\n",
       "    <tr>\n",
       "      <th>0</th>\n",
       "      <td>15</td>\n",
       "      <td>39,170</td>\n",
       "      <td>$24,649,428.00</td>\n",
       "      <td>78.985371</td>\n",
       "      <td>81.87784</td>\n",
       "      <td>74.98%</td>\n",
       "      <td>85.81%</td>\n",
       "      <td>65.17%</td>\n",
       "    </tr>\n",
       "  </tbody>\n",
       "</table>\n",
       "</div>"
      ],
      "text/plain": [
       "  Total Schools Total Students    Total Budget  Average Math Score  \\\n",
       "0            15         39,170  $24,649,428.00           78.985371   \n",
       "\n",
       "   Average Reading Score % Passing Math % Passing Reading % Overall Passing  \n",
       "0               81.87784         74.98%            85.81%            65.17%  "
      ]
     },
     "execution_count": 89,
     "metadata": {},
     "output_type": "execute_result"
    }
   ],
   "source": [
    "dist_summ_disp_df"
   ]
  },
  {
   "cell_type": "markdown",
   "id": "5d8c7403",
   "metadata": {},
   "source": [
    "## 2. School Summary\n",
    "\n",
    "Create a DataFrame that summarizes key metrics about each school, including the following:\n",
    "\n",
    "* School name\n",
    "* School type\n",
    "* Total students\n",
    "* Total school budget\n",
    "* Per student budget\n",
    "* Average math score\n",
    "* Average reading score\n",
    "* % passing math (the percentage of students who passed math)\n",
    "* % passing reading (the percentage of students who passed reading)\n",
    "* % overall passing (the percentage of students who passed math AND reading)"
   ]
  },
  {
   "cell_type": "markdown",
   "id": "37fb67a4",
   "metadata": {},
   "source": [
    "**- Merge the Schools and Students DataFrames in a new DataFrame (Students with Schools), adding Schools data for each student.**"
   ]
  },
  {
   "cell_type": "code",
   "execution_count": 10,
   "id": "f87b6781",
   "metadata": {},
   "outputs": [],
   "source": [
    "stu_with_sch_data_df = pd.merge(stu_df, sch_df, how='left', on='School Name')"
   ]
  },
  {
   "cell_type": "markdown",
   "id": "12dc2769",
   "metadata": {},
   "source": [
    "**- Create DataFrameGroupBy objects by grouping DataFrames by \"School Name\".**\n",
    "* \"School Name\" will be the index of subsequent DataFrames created from these grouped DataFrames."
   ]
  },
  {
   "cell_type": "code",
   "execution_count": 18,
   "id": "a71f5129",
   "metadata": {},
   "outputs": [],
   "source": [
    "# From the \"Students with Schools\" DataFrame\n",
    "sch_grp = stu_with_sch_data_df.groupby(['School Name'])\n",
    "\n",
    "# From the \"Students Who Passed Math\" DataFrame\n",
    "pass_math_grp = pass_math_df.groupby(['School Name'])\n",
    "\n",
    "# From the \"Students Who Passed Reading\" DataFrame\n",
    "pass_read_grp = pass_read_df.groupby(['School Name'])\n",
    "\n",
    "# From the \"Students Who Passed Math and Reading\" DataFrame\n",
    "pass_both_grp = pass_both_df.groupby(['School Name'])"
   ]
  },
  {
   "cell_type": "markdown",
   "id": "075584c8",
   "metadata": {},
   "source": [
    "**- Calculate metrics by \"School Name\" and store into variables.**\n",
    "* Stored as Series."
   ]
  },
  {
   "cell_type": "code",
   "execution_count": 20,
   "id": "7674e970",
   "metadata": {},
   "outputs": [],
   "source": [
    "# School Type\n",
    "sch_type = sch_grp['Type'].min()\n",
    "\n",
    "# Total Students\n",
    "stu_cnt_by_sch = sch_grp['Student ID'].count()\n",
    "\n",
    "# Total Budget\n",
    "bgt_ttl_by_sch = sch_grp['Budget'].min()\n",
    "\n",
    "# Per Student Budget\n",
    "per_stu_bgt_by_sch = bgt_ttl_by_sch / stu_cnt_by_sch\n",
    "\n",
    "# Average Math Score\n",
    "math_avg_by_sch = sch_grp['Math Score'].mean()\n",
    "\n",
    "# Average Reading Score\n",
    "read_avg_by_sch = sch_grp['Reading Score'].mean()\n",
    "\n",
    "# % of Students Who Passed Math\n",
    "pass_math_pct_by_sch = (pass_math_grp['Student ID'].count() / stu_cnt_by_sch) * 100\n",
    "\n",
    "# % of Students Who Passed Reading\n",
    "pass_read_pct_by_sch = (pass_read_grp['Student ID'].count() / stu_cnt_by_sch) * 100\n",
    "\n",
    "# % of Students Who Passed Math and Reading\n",
    "pass_both_pct_by_sch = (pass_both_grp['Student ID'].count() / stu_cnt_by_sch) * 100"
   ]
  },
  {
   "cell_type": "markdown",
   "id": "a7fae30c",
   "metadata": {},
   "source": [
    "**- Create the School Summary DataFrame with variables containing key metrics by \"School Name\".**"
   ]
  },
  {
   "cell_type": "code",
   "execution_count": 92,
   "id": "db519a82",
   "metadata": {},
   "outputs": [],
   "source": [
    "sch_summ_df = pd.DataFrame(\n",
    "    {\n",
    "        'School Type': sch_type,\n",
    "        'Total Students': stu_cnt_by_sch,\n",
    "        'Total School Budget': bgt_ttl_by_sch,\n",
    "        'Per Student Budget': per_stu_bgt_by_sch,\n",
    "        'Average Math Score': math_avg_by_sch,\n",
    "        'Average Reading Score': read_avg_by_sch,\n",
    "        '% Passing Math': pass_math_pct_by_sch,\n",
    "        '% Passing Reading': pass_read_pct_by_sch,\n",
    "        '% Overall Passing': pass_both_pct_by_sch\n",
    "    }\n",
    ")"
   ]
  },
  {
   "cell_type": "markdown",
   "id": "0a18c9e7",
   "metadata": {},
   "source": [
    "**- Create copy of the School Summary DataFrame to separate formatting transformations from underlying data.**"
   ]
  },
  {
   "cell_type": "code",
   "execution_count": 93,
   "id": "526c0dd6",
   "metadata": {},
   "outputs": [],
   "source": [
    "sch_summ_disp_df = sch_summ_df.copy()"
   ]
  },
  {
   "cell_type": "markdown",
   "id": "739fc324",
   "metadata": {},
   "source": [
    "**- Apply formatting to the metrics in the School Summary DataFrame.**"
   ]
  },
  {
   "cell_type": "code",
   "execution_count": 94,
   "id": "01581fa4",
   "metadata": {},
   "outputs": [],
   "source": [
    "sch_summ_disp_df['Total Students'] = sch_summ_df['Total Students'].map(\"{:,}\".format)\n",
    "sch_summ_disp_df['Total School Budget'] = sch_summ_df['Total School Budget'].map(\"${:,.2f}\".format)\n",
    "sch_summ_disp_df['Per Student Budget'] = sch_summ_df['Per Student Budget'].map(\"${:,.2f}\".format)\n",
    "sch_summ_disp_df['% Passing Math'] = sch_summ_df['% Passing Math'].map(\"{:.2f}%\".format)\n",
    "sch_summ_disp_df['% Passing Reading'] = sch_summ_df['% Passing Reading'].map(\"{:.2f}%\".format)\n",
    "sch_summ_disp_df['% Overall Passing'] = sch_summ_df['% Overall Passing'].map(\"{:.2f}%\".format)"
   ]
  },
  {
   "cell_type": "markdown",
   "id": "6b139bb3",
   "metadata": {},
   "source": [
    "**- Display the School Summary DataFrame.**"
   ]
  },
  {
   "cell_type": "code",
   "execution_count": 95,
   "id": "a2583402",
   "metadata": {},
   "outputs": [
    {
     "data": {
      "text/html": [
       "<div>\n",
       "<style scoped>\n",
       "    .dataframe tbody tr th:only-of-type {\n",
       "        vertical-align: middle;\n",
       "    }\n",
       "\n",
       "    .dataframe tbody tr th {\n",
       "        vertical-align: top;\n",
       "    }\n",
       "\n",
       "    .dataframe thead th {\n",
       "        text-align: right;\n",
       "    }\n",
       "</style>\n",
       "<table border=\"1\" class=\"dataframe\">\n",
       "  <thead>\n",
       "    <tr style=\"text-align: right;\">\n",
       "      <th></th>\n",
       "      <th>School Type</th>\n",
       "      <th>Total Students</th>\n",
       "      <th>Total School Budget</th>\n",
       "      <th>Per Student Budget</th>\n",
       "      <th>Average Math Score</th>\n",
       "      <th>Average Reading Score</th>\n",
       "      <th>% Passing Math</th>\n",
       "      <th>% Passing Reading</th>\n",
       "      <th>% Overall Passing</th>\n",
       "    </tr>\n",
       "    <tr>\n",
       "      <th>School Name</th>\n",
       "      <th></th>\n",
       "      <th></th>\n",
       "      <th></th>\n",
       "      <th></th>\n",
       "      <th></th>\n",
       "      <th></th>\n",
       "      <th></th>\n",
       "      <th></th>\n",
       "      <th></th>\n",
       "    </tr>\n",
       "  </thead>\n",
       "  <tbody>\n",
       "    <tr>\n",
       "      <th>Bailey High School</th>\n",
       "      <td>District</td>\n",
       "      <td>4,976</td>\n",
       "      <td>$3,124,928.00</td>\n",
       "      <td>$628.00</td>\n",
       "      <td>77.048432</td>\n",
       "      <td>81.033963</td>\n",
       "      <td>66.68%</td>\n",
       "      <td>81.93%</td>\n",
       "      <td>54.64%</td>\n",
       "    </tr>\n",
       "    <tr>\n",
       "      <th>Cabrera High School</th>\n",
       "      <td>Charter</td>\n",
       "      <td>1,858</td>\n",
       "      <td>$1,081,356.00</td>\n",
       "      <td>$582.00</td>\n",
       "      <td>83.061895</td>\n",
       "      <td>83.975780</td>\n",
       "      <td>94.13%</td>\n",
       "      <td>97.04%</td>\n",
       "      <td>91.33%</td>\n",
       "    </tr>\n",
       "    <tr>\n",
       "      <th>Figueroa High School</th>\n",
       "      <td>District</td>\n",
       "      <td>2,949</td>\n",
       "      <td>$1,884,411.00</td>\n",
       "      <td>$639.00</td>\n",
       "      <td>76.711767</td>\n",
       "      <td>81.158020</td>\n",
       "      <td>65.99%</td>\n",
       "      <td>80.74%</td>\n",
       "      <td>53.20%</td>\n",
       "    </tr>\n",
       "    <tr>\n",
       "      <th>Ford High School</th>\n",
       "      <td>District</td>\n",
       "      <td>2,739</td>\n",
       "      <td>$1,763,916.00</td>\n",
       "      <td>$644.00</td>\n",
       "      <td>77.102592</td>\n",
       "      <td>80.746258</td>\n",
       "      <td>68.31%</td>\n",
       "      <td>79.30%</td>\n",
       "      <td>54.29%</td>\n",
       "    </tr>\n",
       "    <tr>\n",
       "      <th>Griffin High School</th>\n",
       "      <td>Charter</td>\n",
       "      <td>1,468</td>\n",
       "      <td>$917,500.00</td>\n",
       "      <td>$625.00</td>\n",
       "      <td>83.351499</td>\n",
       "      <td>83.816757</td>\n",
       "      <td>93.39%</td>\n",
       "      <td>97.14%</td>\n",
       "      <td>90.60%</td>\n",
       "    </tr>\n",
       "    <tr>\n",
       "      <th>Hernandez High School</th>\n",
       "      <td>District</td>\n",
       "      <td>4,635</td>\n",
       "      <td>$3,022,020.00</td>\n",
       "      <td>$652.00</td>\n",
       "      <td>77.289752</td>\n",
       "      <td>80.934412</td>\n",
       "      <td>66.75%</td>\n",
       "      <td>80.86%</td>\n",
       "      <td>53.53%</td>\n",
       "    </tr>\n",
       "    <tr>\n",
       "      <th>Holden High School</th>\n",
       "      <td>Charter</td>\n",
       "      <td>427</td>\n",
       "      <td>$248,087.00</td>\n",
       "      <td>$581.00</td>\n",
       "      <td>83.803279</td>\n",
       "      <td>83.814988</td>\n",
       "      <td>92.51%</td>\n",
       "      <td>96.25%</td>\n",
       "      <td>89.23%</td>\n",
       "    </tr>\n",
       "    <tr>\n",
       "      <th>Huang High School</th>\n",
       "      <td>District</td>\n",
       "      <td>2,917</td>\n",
       "      <td>$1,910,635.00</td>\n",
       "      <td>$655.00</td>\n",
       "      <td>76.629414</td>\n",
       "      <td>81.182722</td>\n",
       "      <td>65.68%</td>\n",
       "      <td>81.32%</td>\n",
       "      <td>53.51%</td>\n",
       "    </tr>\n",
       "    <tr>\n",
       "      <th>Johnson High School</th>\n",
       "      <td>District</td>\n",
       "      <td>4,761</td>\n",
       "      <td>$3,094,650.00</td>\n",
       "      <td>$650.00</td>\n",
       "      <td>77.072464</td>\n",
       "      <td>80.966394</td>\n",
       "      <td>66.06%</td>\n",
       "      <td>81.22%</td>\n",
       "      <td>53.54%</td>\n",
       "    </tr>\n",
       "    <tr>\n",
       "      <th>Pena High School</th>\n",
       "      <td>Charter</td>\n",
       "      <td>962</td>\n",
       "      <td>$585,858.00</td>\n",
       "      <td>$609.00</td>\n",
       "      <td>83.839917</td>\n",
       "      <td>84.044699</td>\n",
       "      <td>94.59%</td>\n",
       "      <td>95.95%</td>\n",
       "      <td>90.54%</td>\n",
       "    </tr>\n",
       "    <tr>\n",
       "      <th>Rodriguez High School</th>\n",
       "      <td>District</td>\n",
       "      <td>3,999</td>\n",
       "      <td>$2,547,363.00</td>\n",
       "      <td>$637.00</td>\n",
       "      <td>76.842711</td>\n",
       "      <td>80.744686</td>\n",
       "      <td>66.37%</td>\n",
       "      <td>80.22%</td>\n",
       "      <td>52.99%</td>\n",
       "    </tr>\n",
       "    <tr>\n",
       "      <th>Shelton High School</th>\n",
       "      <td>Charter</td>\n",
       "      <td>1,761</td>\n",
       "      <td>$1,056,600.00</td>\n",
       "      <td>$600.00</td>\n",
       "      <td>83.359455</td>\n",
       "      <td>83.725724</td>\n",
       "      <td>93.87%</td>\n",
       "      <td>95.85%</td>\n",
       "      <td>89.89%</td>\n",
       "    </tr>\n",
       "    <tr>\n",
       "      <th>Thomas High School</th>\n",
       "      <td>Charter</td>\n",
       "      <td>1,635</td>\n",
       "      <td>$1,043,130.00</td>\n",
       "      <td>$638.00</td>\n",
       "      <td>83.418349</td>\n",
       "      <td>83.848930</td>\n",
       "      <td>93.27%</td>\n",
       "      <td>97.31%</td>\n",
       "      <td>90.95%</td>\n",
       "    </tr>\n",
       "    <tr>\n",
       "      <th>Wilson High School</th>\n",
       "      <td>Charter</td>\n",
       "      <td>2,283</td>\n",
       "      <td>$1,319,574.00</td>\n",
       "      <td>$578.00</td>\n",
       "      <td>83.274201</td>\n",
       "      <td>83.989488</td>\n",
       "      <td>93.87%</td>\n",
       "      <td>96.54%</td>\n",
       "      <td>90.58%</td>\n",
       "    </tr>\n",
       "    <tr>\n",
       "      <th>Wright High School</th>\n",
       "      <td>Charter</td>\n",
       "      <td>1,800</td>\n",
       "      <td>$1,049,400.00</td>\n",
       "      <td>$583.00</td>\n",
       "      <td>83.682222</td>\n",
       "      <td>83.955000</td>\n",
       "      <td>93.33%</td>\n",
       "      <td>96.61%</td>\n",
       "      <td>90.33%</td>\n",
       "    </tr>\n",
       "  </tbody>\n",
       "</table>\n",
       "</div>"
      ],
      "text/plain": [
       "                      School Type Total Students Total School Budget  \\\n",
       "School Name                                                            \n",
       "Bailey High School       District          4,976       $3,124,928.00   \n",
       "Cabrera High School       Charter          1,858       $1,081,356.00   \n",
       "Figueroa High School     District          2,949       $1,884,411.00   \n",
       "Ford High School         District          2,739       $1,763,916.00   \n",
       "Griffin High School       Charter          1,468         $917,500.00   \n",
       "Hernandez High School    District          4,635       $3,022,020.00   \n",
       "Holden High School        Charter            427         $248,087.00   \n",
       "Huang High School        District          2,917       $1,910,635.00   \n",
       "Johnson High School      District          4,761       $3,094,650.00   \n",
       "Pena High School          Charter            962         $585,858.00   \n",
       "Rodriguez High School    District          3,999       $2,547,363.00   \n",
       "Shelton High School       Charter          1,761       $1,056,600.00   \n",
       "Thomas High School        Charter          1,635       $1,043,130.00   \n",
       "Wilson High School        Charter          2,283       $1,319,574.00   \n",
       "Wright High School        Charter          1,800       $1,049,400.00   \n",
       "\n",
       "                      Per Student Budget  Average Math Score  \\\n",
       "School Name                                                    \n",
       "Bailey High School               $628.00           77.048432   \n",
       "Cabrera High School              $582.00           83.061895   \n",
       "Figueroa High School             $639.00           76.711767   \n",
       "Ford High School                 $644.00           77.102592   \n",
       "Griffin High School              $625.00           83.351499   \n",
       "Hernandez High School            $652.00           77.289752   \n",
       "Holden High School               $581.00           83.803279   \n",
       "Huang High School                $655.00           76.629414   \n",
       "Johnson High School              $650.00           77.072464   \n",
       "Pena High School                 $609.00           83.839917   \n",
       "Rodriguez High School            $637.00           76.842711   \n",
       "Shelton High School              $600.00           83.359455   \n",
       "Thomas High School               $638.00           83.418349   \n",
       "Wilson High School               $578.00           83.274201   \n",
       "Wright High School               $583.00           83.682222   \n",
       "\n",
       "                       Average Reading Score % Passing Math % Passing Reading  \\\n",
       "School Name                                                                     \n",
       "Bailey High School                 81.033963         66.68%            81.93%   \n",
       "Cabrera High School                83.975780         94.13%            97.04%   \n",
       "Figueroa High School               81.158020         65.99%            80.74%   \n",
       "Ford High School                   80.746258         68.31%            79.30%   \n",
       "Griffin High School                83.816757         93.39%            97.14%   \n",
       "Hernandez High School              80.934412         66.75%            80.86%   \n",
       "Holden High School                 83.814988         92.51%            96.25%   \n",
       "Huang High School                  81.182722         65.68%            81.32%   \n",
       "Johnson High School                80.966394         66.06%            81.22%   \n",
       "Pena High School                   84.044699         94.59%            95.95%   \n",
       "Rodriguez High School              80.744686         66.37%            80.22%   \n",
       "Shelton High School                83.725724         93.87%            95.85%   \n",
       "Thomas High School                 83.848930         93.27%            97.31%   \n",
       "Wilson High School                 83.989488         93.87%            96.54%   \n",
       "Wright High School                 83.955000         93.33%            96.61%   \n",
       "\n",
       "                      % Overall Passing  \n",
       "School Name                              \n",
       "Bailey High School               54.64%  \n",
       "Cabrera High School              91.33%  \n",
       "Figueroa High School             53.20%  \n",
       "Ford High School                 54.29%  \n",
       "Griffin High School              90.60%  \n",
       "Hernandez High School            53.53%  \n",
       "Holden High School               89.23%  \n",
       "Huang High School                53.51%  \n",
       "Johnson High School              53.54%  \n",
       "Pena High School                 90.54%  \n",
       "Rodriguez High School            52.99%  \n",
       "Shelton High School              89.89%  \n",
       "Thomas High School               90.95%  \n",
       "Wilson High School               90.58%  \n",
       "Wright High School               90.33%  "
      ]
     },
     "execution_count": 95,
     "metadata": {},
     "output_type": "execute_result"
    }
   ],
   "source": [
    "sch_summ_disp_df"
   ]
  },
  {
   "cell_type": "markdown",
   "id": "9fe78f23",
   "metadata": {},
   "source": [
    "## 3. Highest-Performing Schools (by % Overall Passing)\n",
    "\n",
    "Create a DataFrame that highlights the top 5 performing schools based on % Overall Passing. Include the following metrics:\n",
    "\n",
    "* School name\n",
    "* School type\n",
    "* Total students\n",
    "* Total school budget\n",
    "* Per student budget\n",
    "* Average math score\n",
    "* Average reading score\n",
    "* % passing math (the percentage of students who passed math)\n",
    "* % passing reading (the percentage of students who passed reading)\n",
    "* % overall passing (the percentage of students who passed math AND reading)"
   ]
  },
  {
   "cell_type": "markdown",
   "id": "2d49c72e",
   "metadata": {},
   "source": [
    "**- Sort the School Summary DataFrame by % Overall Passing (descending), show the first 5 rows, and save into a new DataFrame (Highest-Performing Schools).**\n",
    "- Applied sort on the base School Summary DataFrame to ensure sort is based on values, not strings."
   ]
  },
  {
   "cell_type": "code",
   "execution_count": 100,
   "id": "4193274c",
   "metadata": {},
   "outputs": [],
   "source": [
    "sch_top5_df = sch_summ_df.sort_values('% Overall Passing', ascending = False).head(5)"
   ]
  },
  {
   "cell_type": "markdown",
   "id": "30e134c3",
   "metadata": {},
   "source": [
    "**- Apply formatting to the metrics in the Highest-Performing Schools DataFrame.**"
   ]
  },
  {
   "cell_type": "code",
   "execution_count": 102,
   "id": "67f9d4db",
   "metadata": {},
   "outputs": [],
   "source": [
    "sch_top5_df['Total Students'] = sch_top5_df['Total Students'].map(\"{:,}\".format)\n",
    "sch_top5_df['Total School Budget'] = sch_top5_df['Total School Budget'].map(\"${:,.2f}\".format)\n",
    "sch_top5_df['Per Student Budget'] = sch_top5_df['Per Student Budget'].map(\"${:,.2f}\".format)\n",
    "sch_top5_df['% Passing Math'] = sch_top5_df['% Passing Math'].map(\"{:.2f}%\".format)\n",
    "sch_top5_df['% Passing Reading'] = sch_top5_df['% Passing Reading'].map(\"{:.2f}%\".format)\n",
    "sch_top5_df['% Overall Passing'] = sch_top5_df['% Overall Passing'].map(\"{:.2f}%\".format)"
   ]
  },
  {
   "cell_type": "markdown",
   "id": "94ac5576",
   "metadata": {},
   "source": [
    "**- Display the Highest-Performing Schools DataFrame.**"
   ]
  },
  {
   "cell_type": "code",
   "execution_count": 103,
   "id": "69b91420",
   "metadata": {},
   "outputs": [
    {
     "data": {
      "text/html": [
       "<div>\n",
       "<style scoped>\n",
       "    .dataframe tbody tr th:only-of-type {\n",
       "        vertical-align: middle;\n",
       "    }\n",
       "\n",
       "    .dataframe tbody tr th {\n",
       "        vertical-align: top;\n",
       "    }\n",
       "\n",
       "    .dataframe thead th {\n",
       "        text-align: right;\n",
       "    }\n",
       "</style>\n",
       "<table border=\"1\" class=\"dataframe\">\n",
       "  <thead>\n",
       "    <tr style=\"text-align: right;\">\n",
       "      <th></th>\n",
       "      <th>School Type</th>\n",
       "      <th>Total Students</th>\n",
       "      <th>Total School Budget</th>\n",
       "      <th>Per Student Budget</th>\n",
       "      <th>Average Math Score</th>\n",
       "      <th>Average Reading Score</th>\n",
       "      <th>% Passing Math</th>\n",
       "      <th>% Passing Reading</th>\n",
       "      <th>% Overall Passing</th>\n",
       "    </tr>\n",
       "    <tr>\n",
       "      <th>School Name</th>\n",
       "      <th></th>\n",
       "      <th></th>\n",
       "      <th></th>\n",
       "      <th></th>\n",
       "      <th></th>\n",
       "      <th></th>\n",
       "      <th></th>\n",
       "      <th></th>\n",
       "      <th></th>\n",
       "    </tr>\n",
       "  </thead>\n",
       "  <tbody>\n",
       "    <tr>\n",
       "      <th>Cabrera High School</th>\n",
       "      <td>Charter</td>\n",
       "      <td>1,858</td>\n",
       "      <td>$1,081,356.00</td>\n",
       "      <td>$582.00</td>\n",
       "      <td>83.061895</td>\n",
       "      <td>83.975780</td>\n",
       "      <td>94.13%</td>\n",
       "      <td>97.04%</td>\n",
       "      <td>91.33%</td>\n",
       "    </tr>\n",
       "    <tr>\n",
       "      <th>Thomas High School</th>\n",
       "      <td>Charter</td>\n",
       "      <td>1,635</td>\n",
       "      <td>$1,043,130.00</td>\n",
       "      <td>$638.00</td>\n",
       "      <td>83.418349</td>\n",
       "      <td>83.848930</td>\n",
       "      <td>93.27%</td>\n",
       "      <td>97.31%</td>\n",
       "      <td>90.95%</td>\n",
       "    </tr>\n",
       "    <tr>\n",
       "      <th>Griffin High School</th>\n",
       "      <td>Charter</td>\n",
       "      <td>1,468</td>\n",
       "      <td>$917,500.00</td>\n",
       "      <td>$625.00</td>\n",
       "      <td>83.351499</td>\n",
       "      <td>83.816757</td>\n",
       "      <td>93.39%</td>\n",
       "      <td>97.14%</td>\n",
       "      <td>90.60%</td>\n",
       "    </tr>\n",
       "    <tr>\n",
       "      <th>Wilson High School</th>\n",
       "      <td>Charter</td>\n",
       "      <td>2,283</td>\n",
       "      <td>$1,319,574.00</td>\n",
       "      <td>$578.00</td>\n",
       "      <td>83.274201</td>\n",
       "      <td>83.989488</td>\n",
       "      <td>93.87%</td>\n",
       "      <td>96.54%</td>\n",
       "      <td>90.58%</td>\n",
       "    </tr>\n",
       "    <tr>\n",
       "      <th>Pena High School</th>\n",
       "      <td>Charter</td>\n",
       "      <td>962</td>\n",
       "      <td>$585,858.00</td>\n",
       "      <td>$609.00</td>\n",
       "      <td>83.839917</td>\n",
       "      <td>84.044699</td>\n",
       "      <td>94.59%</td>\n",
       "      <td>95.95%</td>\n",
       "      <td>90.54%</td>\n",
       "    </tr>\n",
       "  </tbody>\n",
       "</table>\n",
       "</div>"
      ],
      "text/plain": [
       "                    School Type Total Students Total School Budget  \\\n",
       "School Name                                                          \n",
       "Cabrera High School     Charter          1,858       $1,081,356.00   \n",
       "Thomas High School      Charter          1,635       $1,043,130.00   \n",
       "Griffin High School     Charter          1,468         $917,500.00   \n",
       "Wilson High School      Charter          2,283       $1,319,574.00   \n",
       "Pena High School        Charter            962         $585,858.00   \n",
       "\n",
       "                    Per Student Budget  Average Math Score  \\\n",
       "School Name                                                  \n",
       "Cabrera High School            $582.00           83.061895   \n",
       "Thomas High School             $638.00           83.418349   \n",
       "Griffin High School            $625.00           83.351499   \n",
       "Wilson High School             $578.00           83.274201   \n",
       "Pena High School               $609.00           83.839917   \n",
       "\n",
       "                     Average Reading Score % Passing Math % Passing Reading  \\\n",
       "School Name                                                                   \n",
       "Cabrera High School              83.975780         94.13%            97.04%   \n",
       "Thomas High School               83.848930         93.27%            97.31%   \n",
       "Griffin High School              83.816757         93.39%            97.14%   \n",
       "Wilson High School               83.989488         93.87%            96.54%   \n",
       "Pena High School                 84.044699         94.59%            95.95%   \n",
       "\n",
       "                    % Overall Passing  \n",
       "School Name                            \n",
       "Cabrera High School            91.33%  \n",
       "Thomas High School             90.95%  \n",
       "Griffin High School            90.60%  \n",
       "Wilson High School             90.58%  \n",
       "Pena High School               90.54%  "
      ]
     },
     "execution_count": 103,
     "metadata": {},
     "output_type": "execute_result"
    }
   ],
   "source": [
    "sch_top5_df"
   ]
  },
  {
   "cell_type": "markdown",
   "id": "d4e3a8ea",
   "metadata": {},
   "source": [
    "## 4. Lowest-Performing Schools (by % Overall Passing)\n",
    "\n",
    "Create a DataFrame that highlights the bottom 5 performing schools based on % Overall Passing. Include the following metrics:\n",
    "\n",
    "* School name\n",
    "* School type\n",
    "* Total students\n",
    "* Total school budget\n",
    "* Per student budget\n",
    "* Average math score\n",
    "* Average reading score\n",
    "* % passing math (the percentage of students who passed math)\n",
    "* % passing reading (the percentage of students who passed reading)\n",
    "* % overall passing (the percentage of students who passed math AND reading)"
   ]
  },
  {
   "cell_type": "markdown",
   "id": "d56b7059",
   "metadata": {},
   "source": [
    "**- Sort the School Summary DataFrame by % Overall Passing (ascending), show the first 5 rows, and save into a new DataFrame (Lowest-Performing Schools).***\n",
    "- Applied sort on the base School Summary DataFrame to ensure sort is based on values, not strings."
   ]
  },
  {
   "cell_type": "code",
   "execution_count": 105,
   "id": "e447f7ba",
   "metadata": {},
   "outputs": [],
   "source": [
    "sch_bot5_df = sch_summ_df.sort_values('% Overall Passing', ascending = True).head(5)"
   ]
  },
  {
   "cell_type": "markdown",
   "id": "47898123",
   "metadata": {},
   "source": [
    "**- Apply formatting to the metrics in the Lowest-Performing Schools DataFrame.**"
   ]
  },
  {
   "cell_type": "code",
   "execution_count": 106,
   "id": "25870860",
   "metadata": {},
   "outputs": [],
   "source": [
    "sch_bot5_df['Total Students'] = sch_bot5_df['Total Students'].map(\"{:,}\".format)\n",
    "sch_bot5_df['Total School Budget'] = sch_bot5_df['Total School Budget'].map(\"${:,.2f}\".format)\n",
    "sch_bot5_df['Per Student Budget'] = sch_bot5_df['Per Student Budget'].map(\"${:,.2f}\".format)\n",
    "sch_bot5_df['% Passing Math'] = sch_bot5_df['% Passing Math'].map(\"{:.2f}%\".format)\n",
    "sch_bot5_df['% Passing Reading'] = sch_bot5_df['% Passing Reading'].map(\"{:.2f}%\".format)\n",
    "sch_bot5_df['% Overall Passing'] = sch_bot5_df['% Overall Passing'].map(\"{:.2f}%\".format)"
   ]
  },
  {
   "cell_type": "markdown",
   "id": "cdf2f5b4",
   "metadata": {},
   "source": [
    "**- Display the Lowest-Performing Schools DataFrame.**"
   ]
  },
  {
   "cell_type": "code",
   "execution_count": 107,
   "id": "9fe68720",
   "metadata": {
    "scrolled": true
   },
   "outputs": [
    {
     "data": {
      "text/html": [
       "<div>\n",
       "<style scoped>\n",
       "    .dataframe tbody tr th:only-of-type {\n",
       "        vertical-align: middle;\n",
       "    }\n",
       "\n",
       "    .dataframe tbody tr th {\n",
       "        vertical-align: top;\n",
       "    }\n",
       "\n",
       "    .dataframe thead th {\n",
       "        text-align: right;\n",
       "    }\n",
       "</style>\n",
       "<table border=\"1\" class=\"dataframe\">\n",
       "  <thead>\n",
       "    <tr style=\"text-align: right;\">\n",
       "      <th></th>\n",
       "      <th>School Type</th>\n",
       "      <th>Total Students</th>\n",
       "      <th>Total School Budget</th>\n",
       "      <th>Per Student Budget</th>\n",
       "      <th>Average Math Score</th>\n",
       "      <th>Average Reading Score</th>\n",
       "      <th>% Passing Math</th>\n",
       "      <th>% Passing Reading</th>\n",
       "      <th>% Overall Passing</th>\n",
       "    </tr>\n",
       "    <tr>\n",
       "      <th>School Name</th>\n",
       "      <th></th>\n",
       "      <th></th>\n",
       "      <th></th>\n",
       "      <th></th>\n",
       "      <th></th>\n",
       "      <th></th>\n",
       "      <th></th>\n",
       "      <th></th>\n",
       "      <th></th>\n",
       "    </tr>\n",
       "  </thead>\n",
       "  <tbody>\n",
       "    <tr>\n",
       "      <th>Rodriguez High School</th>\n",
       "      <td>District</td>\n",
       "      <td>3,999</td>\n",
       "      <td>$2,547,363.00</td>\n",
       "      <td>$637.00</td>\n",
       "      <td>76.842711</td>\n",
       "      <td>80.744686</td>\n",
       "      <td>66.37%</td>\n",
       "      <td>80.22%</td>\n",
       "      <td>52.99%</td>\n",
       "    </tr>\n",
       "    <tr>\n",
       "      <th>Figueroa High School</th>\n",
       "      <td>District</td>\n",
       "      <td>2,949</td>\n",
       "      <td>$1,884,411.00</td>\n",
       "      <td>$639.00</td>\n",
       "      <td>76.711767</td>\n",
       "      <td>81.158020</td>\n",
       "      <td>65.99%</td>\n",
       "      <td>80.74%</td>\n",
       "      <td>53.20%</td>\n",
       "    </tr>\n",
       "    <tr>\n",
       "      <th>Huang High School</th>\n",
       "      <td>District</td>\n",
       "      <td>2,917</td>\n",
       "      <td>$1,910,635.00</td>\n",
       "      <td>$655.00</td>\n",
       "      <td>76.629414</td>\n",
       "      <td>81.182722</td>\n",
       "      <td>65.68%</td>\n",
       "      <td>81.32%</td>\n",
       "      <td>53.51%</td>\n",
       "    </tr>\n",
       "    <tr>\n",
       "      <th>Hernandez High School</th>\n",
       "      <td>District</td>\n",
       "      <td>4,635</td>\n",
       "      <td>$3,022,020.00</td>\n",
       "      <td>$652.00</td>\n",
       "      <td>77.289752</td>\n",
       "      <td>80.934412</td>\n",
       "      <td>66.75%</td>\n",
       "      <td>80.86%</td>\n",
       "      <td>53.53%</td>\n",
       "    </tr>\n",
       "    <tr>\n",
       "      <th>Johnson High School</th>\n",
       "      <td>District</td>\n",
       "      <td>4,761</td>\n",
       "      <td>$3,094,650.00</td>\n",
       "      <td>$650.00</td>\n",
       "      <td>77.072464</td>\n",
       "      <td>80.966394</td>\n",
       "      <td>66.06%</td>\n",
       "      <td>81.22%</td>\n",
       "      <td>53.54%</td>\n",
       "    </tr>\n",
       "  </tbody>\n",
       "</table>\n",
       "</div>"
      ],
      "text/plain": [
       "                      School Type Total Students Total School Budget  \\\n",
       "School Name                                                            \n",
       "Rodriguez High School    District          3,999       $2,547,363.00   \n",
       "Figueroa High School     District          2,949       $1,884,411.00   \n",
       "Huang High School        District          2,917       $1,910,635.00   \n",
       "Hernandez High School    District          4,635       $3,022,020.00   \n",
       "Johnson High School      District          4,761       $3,094,650.00   \n",
       "\n",
       "                      Per Student Budget  Average Math Score  \\\n",
       "School Name                                                    \n",
       "Rodriguez High School            $637.00           76.842711   \n",
       "Figueroa High School             $639.00           76.711767   \n",
       "Huang High School                $655.00           76.629414   \n",
       "Hernandez High School            $652.00           77.289752   \n",
       "Johnson High School              $650.00           77.072464   \n",
       "\n",
       "                       Average Reading Score % Passing Math % Passing Reading  \\\n",
       "School Name                                                                     \n",
       "Rodriguez High School              80.744686         66.37%            80.22%   \n",
       "Figueroa High School               81.158020         65.99%            80.74%   \n",
       "Huang High School                  81.182722         65.68%            81.32%   \n",
       "Hernandez High School              80.934412         66.75%            80.86%   \n",
       "Johnson High School                80.966394         66.06%            81.22%   \n",
       "\n",
       "                      % Overall Passing  \n",
       "School Name                              \n",
       "Rodriguez High School            52.99%  \n",
       "Figueroa High School             53.20%  \n",
       "Huang High School                53.51%  \n",
       "Hernandez High School            53.53%  \n",
       "Johnson High School              53.54%  "
      ]
     },
     "execution_count": 107,
     "metadata": {},
     "output_type": "execute_result"
    }
   ],
   "source": [
    "sch_bot5_df"
   ]
  },
  {
   "cell_type": "markdown",
   "id": "86660a23",
   "metadata": {},
   "source": [
    "## 5. Math Scores by Grade\n",
    "\n",
    "Create a DataFrame that lists the average math score for students of each grade level (9th, 10th, 11th, 12th) at each school."
   ]
  },
  {
   "cell_type": "markdown",
   "id": "65d68e93",
   "metadata": {},
   "source": [
    "**- Create DataFrames that filter the Student DataFrame based on grade criteria.**"
   ]
  },
  {
   "cell_type": "code",
   "execution_count": 51,
   "id": "3959e587",
   "metadata": {},
   "outputs": [],
   "source": [
    "stu_09th_df = stu_df.loc[stu_df['Grade'] == '9th', :]\n",
    "stu_10th_df = stu_df.loc[stu_df['Grade'] == '10th', :]\n",
    "stu_11th_df = stu_df.loc[stu_df['Grade'] == '11th', :]\n",
    "stu_12th_df = stu_df.loc[stu_df['Grade'] == '12th', :]"
   ]
  },
  {
   "cell_type": "markdown",
   "id": "9bb0a6d7",
   "metadata": {},
   "source": [
    "**- Create DataFrameGroupBy objects for each of the grade-specific DataFrames by grouping by \"School Name\".**\n",
    "* \"School Name\" will be the index of subsequent DataFrames created from these grouped DataFrames."
   ]
  },
  {
   "cell_type": "code",
   "execution_count": 52,
   "id": "80ae0e89",
   "metadata": {},
   "outputs": [],
   "source": [
    "sch_09th_grp = stu_09th_df.groupby('School Name')\n",
    "sch_10th_grp = stu_10th_df.groupby('School Name')\n",
    "sch_11th_grp = stu_11th_df.groupby('School Name')\n",
    "sch_12th_grp = stu_12th_df.groupby('School Name')"
   ]
  },
  {
   "cell_type": "markdown",
   "id": "8bd0e6be",
   "metadata": {},
   "source": [
    "**- Calculate grade-specific math metrics by \"School Name\" and store into variables.**\n",
    "* Stored as Series."
   ]
  },
  {
   "cell_type": "code",
   "execution_count": 55,
   "id": "851a3739",
   "metadata": {
    "scrolled": true
   },
   "outputs": [],
   "source": [
    "# 9th Grade Math Score Average\n",
    "math_avg_09th_by_sch = sch_09th_grp['Math Score'].mean()\n",
    "\n",
    "# 10th Grade Math Score Average\n",
    "math_avg_10th_by_sch = sch_10th_grp['Math Score'].mean()\n",
    "\n",
    "# 11th Grade Math Score Average\n",
    "math_avg_11th_by_sch = sch_11th_grp['Math Score'].mean()\n",
    "\n",
    "# 12th Grade Math Score Average\n",
    "math_avg_12th_by_sch = sch_12th_grp['Math Score'].mean()"
   ]
  },
  {
   "cell_type": "markdown",
   "id": "984e859b",
   "metadata": {},
   "source": [
    "**- Create the Math Scores by Grade DataFrame with variables containing grade-specific math metrics by \"School Name\".**"
   ]
  },
  {
   "cell_type": "code",
   "execution_count": 68,
   "id": "02fb47ee",
   "metadata": {
    "scrolled": true
   },
   "outputs": [],
   "source": [
    "avg_math_by_sch_grd_df = pd.DataFrame(\n",
    "    {\n",
    "        '9th': math_avg_09th_by_sch, \n",
    "        '10th': math_avg_10th_by_sch, \n",
    "        '11th': math_avg_11th_by_sch, \n",
    "        '12th': math_avg_12th_by_sch\n",
    "    }\n",
    ")"
   ]
  },
  {
   "cell_type": "markdown",
   "id": "ac45f591",
   "metadata": {},
   "source": [
    "**- Display the Math Scores by Grade DataFrame.**"
   ]
  },
  {
   "cell_type": "code",
   "execution_count": 69,
   "id": "3653369e",
   "metadata": {},
   "outputs": [
    {
     "data": {
      "text/html": [
       "<div>\n",
       "<style scoped>\n",
       "    .dataframe tbody tr th:only-of-type {\n",
       "        vertical-align: middle;\n",
       "    }\n",
       "\n",
       "    .dataframe tbody tr th {\n",
       "        vertical-align: top;\n",
       "    }\n",
       "\n",
       "    .dataframe thead th {\n",
       "        text-align: right;\n",
       "    }\n",
       "</style>\n",
       "<table border=\"1\" class=\"dataframe\">\n",
       "  <thead>\n",
       "    <tr style=\"text-align: right;\">\n",
       "      <th></th>\n",
       "      <th>9th</th>\n",
       "      <th>10th</th>\n",
       "      <th>11th</th>\n",
       "      <th>12th</th>\n",
       "    </tr>\n",
       "    <tr>\n",
       "      <th>School Name</th>\n",
       "      <th></th>\n",
       "      <th></th>\n",
       "      <th></th>\n",
       "      <th></th>\n",
       "    </tr>\n",
       "  </thead>\n",
       "  <tbody>\n",
       "    <tr>\n",
       "      <th>Bailey High School</th>\n",
       "      <td>77.083676</td>\n",
       "      <td>76.996772</td>\n",
       "      <td>77.515588</td>\n",
       "      <td>76.492218</td>\n",
       "    </tr>\n",
       "    <tr>\n",
       "      <th>Cabrera High School</th>\n",
       "      <td>83.094697</td>\n",
       "      <td>83.154506</td>\n",
       "      <td>82.765560</td>\n",
       "      <td>83.277487</td>\n",
       "    </tr>\n",
       "    <tr>\n",
       "      <th>Figueroa High School</th>\n",
       "      <td>76.403037</td>\n",
       "      <td>76.539974</td>\n",
       "      <td>76.884344</td>\n",
       "      <td>77.151369</td>\n",
       "    </tr>\n",
       "    <tr>\n",
       "      <th>Ford High School</th>\n",
       "      <td>77.361345</td>\n",
       "      <td>77.672316</td>\n",
       "      <td>76.918058</td>\n",
       "      <td>76.179963</td>\n",
       "    </tr>\n",
       "    <tr>\n",
       "      <th>Griffin High School</th>\n",
       "      <td>82.044010</td>\n",
       "      <td>84.229064</td>\n",
       "      <td>83.842105</td>\n",
       "      <td>83.356164</td>\n",
       "    </tr>\n",
       "    <tr>\n",
       "      <th>Hernandez High School</th>\n",
       "      <td>77.438495</td>\n",
       "      <td>77.337408</td>\n",
       "      <td>77.136029</td>\n",
       "      <td>77.186567</td>\n",
       "    </tr>\n",
       "    <tr>\n",
       "      <th>Holden High School</th>\n",
       "      <td>83.787402</td>\n",
       "      <td>83.429825</td>\n",
       "      <td>85.000000</td>\n",
       "      <td>82.855422</td>\n",
       "    </tr>\n",
       "    <tr>\n",
       "      <th>Huang High School</th>\n",
       "      <td>77.027251</td>\n",
       "      <td>75.908735</td>\n",
       "      <td>76.446602</td>\n",
       "      <td>77.225641</td>\n",
       "    </tr>\n",
       "    <tr>\n",
       "      <th>Johnson High School</th>\n",
       "      <td>77.187857</td>\n",
       "      <td>76.691117</td>\n",
       "      <td>77.491653</td>\n",
       "      <td>76.863248</td>\n",
       "    </tr>\n",
       "    <tr>\n",
       "      <th>Pena High School</th>\n",
       "      <td>83.625455</td>\n",
       "      <td>83.372000</td>\n",
       "      <td>84.328125</td>\n",
       "      <td>84.121547</td>\n",
       "    </tr>\n",
       "    <tr>\n",
       "      <th>Rodriguez High School</th>\n",
       "      <td>76.859966</td>\n",
       "      <td>76.612500</td>\n",
       "      <td>76.395626</td>\n",
       "      <td>77.690748</td>\n",
       "    </tr>\n",
       "    <tr>\n",
       "      <th>Shelton High School</th>\n",
       "      <td>83.420755</td>\n",
       "      <td>82.917411</td>\n",
       "      <td>83.383495</td>\n",
       "      <td>83.778976</td>\n",
       "    </tr>\n",
       "    <tr>\n",
       "      <th>Thomas High School</th>\n",
       "      <td>83.590022</td>\n",
       "      <td>83.087886</td>\n",
       "      <td>83.498795</td>\n",
       "      <td>83.497041</td>\n",
       "    </tr>\n",
       "    <tr>\n",
       "      <th>Wilson High School</th>\n",
       "      <td>83.085578</td>\n",
       "      <td>83.724422</td>\n",
       "      <td>83.195326</td>\n",
       "      <td>83.035794</td>\n",
       "    </tr>\n",
       "    <tr>\n",
       "      <th>Wright High School</th>\n",
       "      <td>83.264706</td>\n",
       "      <td>84.010288</td>\n",
       "      <td>83.836782</td>\n",
       "      <td>83.644986</td>\n",
       "    </tr>\n",
       "  </tbody>\n",
       "</table>\n",
       "</div>"
      ],
      "text/plain": [
       "                             9th       10th       11th       12th\n",
       "School Name                                                      \n",
       "Bailey High School     77.083676  76.996772  77.515588  76.492218\n",
       "Cabrera High School    83.094697  83.154506  82.765560  83.277487\n",
       "Figueroa High School   76.403037  76.539974  76.884344  77.151369\n",
       "Ford High School       77.361345  77.672316  76.918058  76.179963\n",
       "Griffin High School    82.044010  84.229064  83.842105  83.356164\n",
       "Hernandez High School  77.438495  77.337408  77.136029  77.186567\n",
       "Holden High School     83.787402  83.429825  85.000000  82.855422\n",
       "Huang High School      77.027251  75.908735  76.446602  77.225641\n",
       "Johnson High School    77.187857  76.691117  77.491653  76.863248\n",
       "Pena High School       83.625455  83.372000  84.328125  84.121547\n",
       "Rodriguez High School  76.859966  76.612500  76.395626  77.690748\n",
       "Shelton High School    83.420755  82.917411  83.383495  83.778976\n",
       "Thomas High School     83.590022  83.087886  83.498795  83.497041\n",
       "Wilson High School     83.085578  83.724422  83.195326  83.035794\n",
       "Wright High School     83.264706  84.010288  83.836782  83.644986"
      ]
     },
     "execution_count": 69,
     "metadata": {},
     "output_type": "execute_result"
    }
   ],
   "source": [
    "avg_math_by_sch_grd_df"
   ]
  },
  {
   "cell_type": "markdown",
   "id": "c164ab6c",
   "metadata": {},
   "source": [
    "## 6. Reading Scores by Grade\n",
    "\n",
    "Create a DataFrame that lists the average reading score for students of each grade level (9th, 10th, 11th, 12th) at each school."
   ]
  },
  {
   "cell_type": "markdown",
   "id": "2625ed7b",
   "metadata": {},
   "source": [
    "**- Calculate grade-specific reading metrics by \"School Name\" and store into variables.**\n",
    "* Stored as Series."
   ]
  },
  {
   "cell_type": "code",
   "execution_count": 70,
   "id": "234cd898",
   "metadata": {},
   "outputs": [],
   "source": [
    "# 9th Grade Reading Score Average\n",
    "read_avg_09th_by_sch = sch_09th_grp['Reading Score'].mean()\n",
    "\n",
    "# 10th Grade Math Score Average\n",
    "read_avg_10th_by_sch = sch_10th_grp['Reading Score'].mean()\n",
    "\n",
    "# 11th Grade Math Score Average\n",
    "read_avg_11th_by_sch = sch_11th_grp['Reading Score'].mean()\n",
    "\n",
    "# 12th Grade Math Score Average\n",
    "read_avg_12th_by_sch = sch_12th_grp['Reading Score'].mean()"
   ]
  },
  {
   "cell_type": "markdown",
   "id": "7546dbfb",
   "metadata": {},
   "source": [
    "**- Create the Reading Scores by Grade DataFrame with variables containing grade-specific reading metrics by \"School Name\".**"
   ]
  },
  {
   "cell_type": "code",
   "execution_count": 71,
   "id": "f784e116",
   "metadata": {},
   "outputs": [],
   "source": [
    "avg_read_by_sch_grd_df = pd.DataFrame(\n",
    "    {\n",
    "        '9th': read_avg_09th_by_sch, \n",
    "        '10th': read_avg_10th_by_sch, \n",
    "        '11th': read_avg_11th_by_sch, \n",
    "        '12th': read_avg_12th_by_sch\n",
    "    }\n",
    ")"
   ]
  },
  {
   "cell_type": "markdown",
   "id": "74aa95e7",
   "metadata": {},
   "source": [
    "**- Display the Reading Scores by Grade DataFrame.**"
   ]
  },
  {
   "cell_type": "code",
   "execution_count": 72,
   "id": "cb6c099d",
   "metadata": {},
   "outputs": [
    {
     "data": {
      "text/html": [
       "<div>\n",
       "<style scoped>\n",
       "    .dataframe tbody tr th:only-of-type {\n",
       "        vertical-align: middle;\n",
       "    }\n",
       "\n",
       "    .dataframe tbody tr th {\n",
       "        vertical-align: top;\n",
       "    }\n",
       "\n",
       "    .dataframe thead th {\n",
       "        text-align: right;\n",
       "    }\n",
       "</style>\n",
       "<table border=\"1\" class=\"dataframe\">\n",
       "  <thead>\n",
       "    <tr style=\"text-align: right;\">\n",
       "      <th></th>\n",
       "      <th>9th</th>\n",
       "      <th>10th</th>\n",
       "      <th>11th</th>\n",
       "      <th>12th</th>\n",
       "    </tr>\n",
       "    <tr>\n",
       "      <th>School Name</th>\n",
       "      <th></th>\n",
       "      <th></th>\n",
       "      <th></th>\n",
       "      <th></th>\n",
       "    </tr>\n",
       "  </thead>\n",
       "  <tbody>\n",
       "    <tr>\n",
       "      <th>Bailey High School</th>\n",
       "      <td>81.303155</td>\n",
       "      <td>80.907183</td>\n",
       "      <td>80.945643</td>\n",
       "      <td>80.912451</td>\n",
       "    </tr>\n",
       "    <tr>\n",
       "      <th>Cabrera High School</th>\n",
       "      <td>83.676136</td>\n",
       "      <td>84.253219</td>\n",
       "      <td>83.788382</td>\n",
       "      <td>84.287958</td>\n",
       "    </tr>\n",
       "    <tr>\n",
       "      <th>Figueroa High School</th>\n",
       "      <td>81.198598</td>\n",
       "      <td>81.408912</td>\n",
       "      <td>80.640339</td>\n",
       "      <td>81.384863</td>\n",
       "    </tr>\n",
       "    <tr>\n",
       "      <th>Ford High School</th>\n",
       "      <td>80.632653</td>\n",
       "      <td>81.262712</td>\n",
       "      <td>80.403642</td>\n",
       "      <td>80.662338</td>\n",
       "    </tr>\n",
       "    <tr>\n",
       "      <th>Griffin High School</th>\n",
       "      <td>83.369193</td>\n",
       "      <td>83.706897</td>\n",
       "      <td>84.288089</td>\n",
       "      <td>84.013699</td>\n",
       "    </tr>\n",
       "    <tr>\n",
       "      <th>Hernandez High School</th>\n",
       "      <td>80.866860</td>\n",
       "      <td>80.660147</td>\n",
       "      <td>81.396140</td>\n",
       "      <td>80.857143</td>\n",
       "    </tr>\n",
       "    <tr>\n",
       "      <th>Holden High School</th>\n",
       "      <td>83.677165</td>\n",
       "      <td>83.324561</td>\n",
       "      <td>83.815534</td>\n",
       "      <td>84.698795</td>\n",
       "    </tr>\n",
       "    <tr>\n",
       "      <th>Huang High School</th>\n",
       "      <td>81.290284</td>\n",
       "      <td>81.512386</td>\n",
       "      <td>81.417476</td>\n",
       "      <td>80.305983</td>\n",
       "    </tr>\n",
       "    <tr>\n",
       "      <th>Johnson High School</th>\n",
       "      <td>81.260714</td>\n",
       "      <td>80.773431</td>\n",
       "      <td>80.616027</td>\n",
       "      <td>81.227564</td>\n",
       "    </tr>\n",
       "    <tr>\n",
       "      <th>Pena High School</th>\n",
       "      <td>83.807273</td>\n",
       "      <td>83.612000</td>\n",
       "      <td>84.335938</td>\n",
       "      <td>84.591160</td>\n",
       "    </tr>\n",
       "    <tr>\n",
       "      <th>Rodriguez High School</th>\n",
       "      <td>80.993127</td>\n",
       "      <td>80.629808</td>\n",
       "      <td>80.864811</td>\n",
       "      <td>80.376426</td>\n",
       "    </tr>\n",
       "    <tr>\n",
       "      <th>Shelton High School</th>\n",
       "      <td>84.122642</td>\n",
       "      <td>83.441964</td>\n",
       "      <td>84.373786</td>\n",
       "      <td>82.781671</td>\n",
       "    </tr>\n",
       "    <tr>\n",
       "      <th>Thomas High School</th>\n",
       "      <td>83.728850</td>\n",
       "      <td>84.254157</td>\n",
       "      <td>83.585542</td>\n",
       "      <td>83.831361</td>\n",
       "    </tr>\n",
       "    <tr>\n",
       "      <th>Wilson High School</th>\n",
       "      <td>83.939778</td>\n",
       "      <td>84.021452</td>\n",
       "      <td>83.764608</td>\n",
       "      <td>84.317673</td>\n",
       "    </tr>\n",
       "    <tr>\n",
       "      <th>Wright High School</th>\n",
       "      <td>83.833333</td>\n",
       "      <td>83.812757</td>\n",
       "      <td>84.156322</td>\n",
       "      <td>84.073171</td>\n",
       "    </tr>\n",
       "  </tbody>\n",
       "</table>\n",
       "</div>"
      ],
      "text/plain": [
       "                             9th       10th       11th       12th\n",
       "School Name                                                      \n",
       "Bailey High School     81.303155  80.907183  80.945643  80.912451\n",
       "Cabrera High School    83.676136  84.253219  83.788382  84.287958\n",
       "Figueroa High School   81.198598  81.408912  80.640339  81.384863\n",
       "Ford High School       80.632653  81.262712  80.403642  80.662338\n",
       "Griffin High School    83.369193  83.706897  84.288089  84.013699\n",
       "Hernandez High School  80.866860  80.660147  81.396140  80.857143\n",
       "Holden High School     83.677165  83.324561  83.815534  84.698795\n",
       "Huang High School      81.290284  81.512386  81.417476  80.305983\n",
       "Johnson High School    81.260714  80.773431  80.616027  81.227564\n",
       "Pena High School       83.807273  83.612000  84.335938  84.591160\n",
       "Rodriguez High School  80.993127  80.629808  80.864811  80.376426\n",
       "Shelton High School    84.122642  83.441964  84.373786  82.781671\n",
       "Thomas High School     83.728850  84.254157  83.585542  83.831361\n",
       "Wilson High School     83.939778  84.021452  83.764608  84.317673\n",
       "Wright High School     83.833333  83.812757  84.156322  84.073171"
      ]
     },
     "execution_count": 72,
     "metadata": {},
     "output_type": "execute_result"
    }
   ],
   "source": [
    "avg_read_by_sch_grd_df"
   ]
  },
  {
   "cell_type": "markdown",
   "id": "65540e96",
   "metadata": {},
   "source": [
    "## 7. Scores by School Spending\n",
    "\n",
    "Create a table that breaks down school performance based on average spending ranges (per student). Use your judgment to create four bins with reasonable cutoff values to group school spending. Include the following metrics in the table:\n",
    "\n",
    "* Average math score\n",
    "* Average reading score\n",
    "* % passing math (the percentage of students who passed math)\n",
    "* % passing reading (the percentage of students who passed reading)\n",
    "* % overall passing (the percentage of students who passed math AND reading)"
   ]
  },
  {
   "cell_type": "markdown",
   "id": "574bf8aa",
   "metadata": {},
   "source": [
    "**- Set the 4 bins for \"Per Student Budget\".**"
   ]
  },
  {
   "cell_type": "code",
   "execution_count": 118,
   "id": "b1e861f9",
   "metadata": {},
   "outputs": [],
   "source": [
    "per_stu_bgt_bin = [0, 585, 630, 645, 680]\n",
    "per_stu_bgt_bin_nms = [\"Less Than 585\", \"585 to 630\", \"630 to 645\", \"More Than 645\"]"
   ]
  },
  {
   "cell_type": "markdown",
   "id": "4c2f1466",
   "metadata": {},
   "source": [
    "**- Add a new Series (\"Per Student Budget Ranges\") to the Student Summary DataFrame using the determined list of bins.**"
   ]
  },
  {
   "cell_type": "code",
   "execution_count": 119,
   "id": "3a39b19f",
   "metadata": {},
   "outputs": [],
   "source": [
    "sch_summ_df['Per Student Budget Ranges'] = pd.cut(\n",
    "    sch_summ_df['Per Student Budget'], \n",
    "    per_stu_bgt_bin, \n",
    "    labels = per_stu_bgt_bin_nms\n",
    ")"
   ]
  },
  {
   "cell_type": "markdown",
   "id": "c013c9dc",
   "metadata": {},
   "source": [
    "**- Create a DataFrameGroupBy object from the School Summary DataFrame by grouping by \"Per Student Budget Ranges\".**"
   ]
  },
  {
   "cell_type": "code",
   "execution_count": 121,
   "id": "f84de467",
   "metadata": {},
   "outputs": [],
   "source": [
    "per_stu_bgt_grp = sch_summ_df.groupby('Per Student Budget Ranges')"
   ]
  },
  {
   "cell_type": "markdown",
   "id": "a9ee317c",
   "metadata": {},
   "source": [
    "**- Create the Scores by School Spending DataFrame by taking the mean on the School Summary DataFrame metrics.**"
   ]
  },
  {
   "cell_type": "code",
   "execution_count": 127,
   "id": "062ade16",
   "metadata": {},
   "outputs": [],
   "source": [
    "sc_by_bgt_df = per_stu_bgt_grp[[\n",
    "    'Average Math Score', 'Average Reading Score', '% Passing Math', '% Passing Reading', '% Overall Passing'\n",
    "]].mean()"
   ]
  },
  {
   "cell_type": "markdown",
   "id": "936b88bd",
   "metadata": {},
   "source": [
    "**- Apply formatting to the metrics in the Scores by School Spending DataFrame.**"
   ]
  },
  {
   "cell_type": "code",
   "execution_count": 129,
   "id": "b3760f80",
   "metadata": {},
   "outputs": [],
   "source": [
    "sc_by_bgt_df['% Passing Math'] = sc_by_bgt_df['% Passing Math'].map(\"{:.2f}%\".format)\n",
    "sc_by_bgt_df['% Passing Reading'] = sc_by_bgt_df['% Passing Reading'].map(\"{:.2f}%\".format)\n",
    "sc_by_bgt_df['% Overall Passing'] = sc_by_bgt_df['% Overall Passing'].map(\"{:.2f}%\".format)"
   ]
  },
  {
   "cell_type": "markdown",
   "id": "8d2b5740",
   "metadata": {},
   "source": [
    "**- Display the Scores by School Spending DataFrame.**"
   ]
  },
  {
   "cell_type": "code",
   "execution_count": 130,
   "id": "41e6c9c2",
   "metadata": {},
   "outputs": [
    {
     "data": {
      "text/html": [
       "<div>\n",
       "<style scoped>\n",
       "    .dataframe tbody tr th:only-of-type {\n",
       "        vertical-align: middle;\n",
       "    }\n",
       "\n",
       "    .dataframe tbody tr th {\n",
       "        vertical-align: top;\n",
       "    }\n",
       "\n",
       "    .dataframe thead th {\n",
       "        text-align: right;\n",
       "    }\n",
       "</style>\n",
       "<table border=\"1\" class=\"dataframe\">\n",
       "  <thead>\n",
       "    <tr style=\"text-align: right;\">\n",
       "      <th></th>\n",
       "      <th>Average Math Score</th>\n",
       "      <th>Average Reading Score</th>\n",
       "      <th>% Passing Math</th>\n",
       "      <th>% Passing Reading</th>\n",
       "      <th>% Overall Passing</th>\n",
       "    </tr>\n",
       "    <tr>\n",
       "      <th>Per Student Budget Ranges</th>\n",
       "      <th></th>\n",
       "      <th></th>\n",
       "      <th></th>\n",
       "      <th></th>\n",
       "      <th></th>\n",
       "    </tr>\n",
       "  </thead>\n",
       "  <tbody>\n",
       "    <tr>\n",
       "      <th>Less Than 585</th>\n",
       "      <td>83.455399</td>\n",
       "      <td>83.933814</td>\n",
       "      <td>93.46%</td>\n",
       "      <td>96.61%</td>\n",
       "      <td>90.37%</td>\n",
       "    </tr>\n",
       "    <tr>\n",
       "      <th>585 to 630</th>\n",
       "      <td>81.899826</td>\n",
       "      <td>83.155286</td>\n",
       "      <td>87.13%</td>\n",
       "      <td>92.72%</td>\n",
       "      <td>81.42%</td>\n",
       "    </tr>\n",
       "    <tr>\n",
       "      <th>630 to 645</th>\n",
       "      <td>78.518855</td>\n",
       "      <td>81.624473</td>\n",
       "      <td>73.48%</td>\n",
       "      <td>84.39%</td>\n",
       "      <td>62.86%</td>\n",
       "    </tr>\n",
       "    <tr>\n",
       "      <th>More Than 645</th>\n",
       "      <td>76.997210</td>\n",
       "      <td>81.027843</td>\n",
       "      <td>66.16%</td>\n",
       "      <td>81.13%</td>\n",
       "      <td>53.53%</td>\n",
       "    </tr>\n",
       "  </tbody>\n",
       "</table>\n",
       "</div>"
      ],
      "text/plain": [
       "                           Average Math Score  Average Reading Score  \\\n",
       "Per Student Budget Ranges                                              \n",
       "Less Than 585                       83.455399              83.933814   \n",
       "585 to 630                          81.899826              83.155286   \n",
       "630 to 645                          78.518855              81.624473   \n",
       "More Than 645                       76.997210              81.027843   \n",
       "\n",
       "                          % Passing Math % Passing Reading % Overall Passing  \n",
       "Per Student Budget Ranges                                                     \n",
       "Less Than 585                     93.46%            96.61%            90.37%  \n",
       "585 to 630                        87.13%            92.72%            81.42%  \n",
       "630 to 645                        73.48%            84.39%            62.86%  \n",
       "More Than 645                     66.16%            81.13%            53.53%  "
      ]
     },
     "execution_count": 130,
     "metadata": {},
     "output_type": "execute_result"
    }
   ],
   "source": [
    "sc_by_bgt_df"
   ]
  },
  {
   "cell_type": "markdown",
   "id": "417e7c5a",
   "metadata": {},
   "source": [
    "## 8. Scores by School Size\n",
    "\n",
    "Create a table that breaks down school performance based on school size (small, medium, or large)."
   ]
  },
  {
   "cell_type": "markdown",
   "id": "28833660",
   "metadata": {},
   "source": [
    "**- Set the bins for \"School Size\".**"
   ]
  },
  {
   "cell_type": "code",
   "execution_count": 133,
   "id": "373078ae",
   "metadata": {},
   "outputs": [],
   "source": [
    "sch_size_bin = [0, 1000, 2000, 5000]\n",
    "sch_size_bin_nms = [\"Small (Less Than 1000)\", \"Medium (1000 to 2000)\", \"Large (More Than 2000)\"]"
   ]
  },
  {
   "cell_type": "markdown",
   "id": "ef7c38af",
   "metadata": {},
   "source": [
    "**- Add a new Series (\"School Size\") to the Student Summary DataFrame using the determined list of bins.**"
   ]
  },
  {
   "cell_type": "code",
   "execution_count": 134,
   "id": "74ba7e0a",
   "metadata": {},
   "outputs": [],
   "source": [
    "sch_summ_df['School Size'] = pd.cut(\n",
    "    sch_summ_df['Total Students'], \n",
    "    sch_size_bin, \n",
    "    labels = sch_size_bin_nms\n",
    ")"
   ]
  },
  {
   "cell_type": "markdown",
   "id": "80685c7a",
   "metadata": {},
   "source": [
    "**- Create a DataFrameGroupBy object from the School Summary DataFrame by grouping by \"School Size\".**"
   ]
  },
  {
   "cell_type": "code",
   "execution_count": 135,
   "id": "5cd1c64f",
   "metadata": {},
   "outputs": [],
   "source": [
    "sch_size_grp = sch_summ_df.groupby('School Size')"
   ]
  },
  {
   "cell_type": "markdown",
   "id": "2f8bf169",
   "metadata": {},
   "source": [
    "**- Create the Scores by School Size DataFrame by taking the mean on the School Summary DataFrame metrics.**"
   ]
  },
  {
   "cell_type": "code",
   "execution_count": 136,
   "id": "d96e680a",
   "metadata": {},
   "outputs": [],
   "source": [
    "sc_by_sch_size_df = sch_size_grp[[\n",
    "    'Average Math Score', 'Average Reading Score', '% Passing Math', '% Passing Reading', '% Overall Passing'\n",
    "]].mean()"
   ]
  },
  {
   "cell_type": "markdown",
   "id": "d8950245",
   "metadata": {},
   "source": [
    "**- Apply formatting to the metrics in the Scores by School Size DataFrame.**"
   ]
  },
  {
   "cell_type": "code",
   "execution_count": 137,
   "id": "c3c33171",
   "metadata": {},
   "outputs": [],
   "source": [
    "sc_by_sch_size_df['% Passing Math'] = sc_by_sch_size_df['% Passing Math'].map(\"{:.2f}%\".format)\n",
    "sc_by_sch_size_df['% Passing Reading'] = sc_by_sch_size_df['% Passing Reading'].map(\"{:.2f}%\".format)\n",
    "sc_by_sch_size_df['% Overall Passing'] = sc_by_sch_size_df['% Overall Passing'].map(\"{:.2f}%\".format)"
   ]
  },
  {
   "cell_type": "markdown",
   "id": "944403f0",
   "metadata": {},
   "source": [
    "**- Display the Scores by School Spending DataFrame.**"
   ]
  },
  {
   "cell_type": "code",
   "execution_count": 138,
   "id": "d6c3c4f5",
   "metadata": {},
   "outputs": [
    {
     "data": {
      "text/html": [
       "<div>\n",
       "<style scoped>\n",
       "    .dataframe tbody tr th:only-of-type {\n",
       "        vertical-align: middle;\n",
       "    }\n",
       "\n",
       "    .dataframe tbody tr th {\n",
       "        vertical-align: top;\n",
       "    }\n",
       "\n",
       "    .dataframe thead th {\n",
       "        text-align: right;\n",
       "    }\n",
       "</style>\n",
       "<table border=\"1\" class=\"dataframe\">\n",
       "  <thead>\n",
       "    <tr style=\"text-align: right;\">\n",
       "      <th></th>\n",
       "      <th>Average Math Score</th>\n",
       "      <th>Average Reading Score</th>\n",
       "      <th>% Passing Math</th>\n",
       "      <th>% Passing Reading</th>\n",
       "      <th>% Overall Passing</th>\n",
       "    </tr>\n",
       "    <tr>\n",
       "      <th>School Size</th>\n",
       "      <th></th>\n",
       "      <th></th>\n",
       "      <th></th>\n",
       "      <th></th>\n",
       "      <th></th>\n",
       "    </tr>\n",
       "  </thead>\n",
       "  <tbody>\n",
       "    <tr>\n",
       "      <th>Small (Less Than 1000)</th>\n",
       "      <td>83.821598</td>\n",
       "      <td>83.929843</td>\n",
       "      <td>93.55%</td>\n",
       "      <td>96.10%</td>\n",
       "      <td>89.88%</td>\n",
       "    </tr>\n",
       "    <tr>\n",
       "      <th>Medium (1000 to 2000)</th>\n",
       "      <td>83.374684</td>\n",
       "      <td>83.864438</td>\n",
       "      <td>93.60%</td>\n",
       "      <td>96.79%</td>\n",
       "      <td>90.62%</td>\n",
       "    </tr>\n",
       "    <tr>\n",
       "      <th>Large (More Than 2000)</th>\n",
       "      <td>77.746417</td>\n",
       "      <td>81.344493</td>\n",
       "      <td>69.96%</td>\n",
       "      <td>82.77%</td>\n",
       "      <td>58.29%</td>\n",
       "    </tr>\n",
       "  </tbody>\n",
       "</table>\n",
       "</div>"
      ],
      "text/plain": [
       "                        Average Math Score  Average Reading Score  \\\n",
       "School Size                                                         \n",
       "Small (Less Than 1000)           83.821598              83.929843   \n",
       "Medium (1000 to 2000)            83.374684              83.864438   \n",
       "Large (More Than 2000)           77.746417              81.344493   \n",
       "\n",
       "                       % Passing Math % Passing Reading % Overall Passing  \n",
       "School Size                                                                \n",
       "Small (Less Than 1000)         93.55%            96.10%            89.88%  \n",
       "Medium (1000 to 2000)          93.60%            96.79%            90.62%  \n",
       "Large (More Than 2000)         69.96%            82.77%            58.29%  "
      ]
     },
     "execution_count": 138,
     "metadata": {},
     "output_type": "execute_result"
    }
   ],
   "source": [
    "sc_by_sch_size_df"
   ]
  },
  {
   "cell_type": "markdown",
   "id": "d2313aa2",
   "metadata": {},
   "source": [
    "## 9. Scores by School Type\n",
    "\n",
    "Create a table that breaks down school performance based on type of school (district or charter)."
   ]
  },
  {
   "cell_type": "markdown",
   "id": "1b019357",
   "metadata": {},
   "source": [
    "**- Create a DataFrameGroupBy object from the School Summary DataFrame by grouping by \"Type\".**"
   ]
  },
  {
   "cell_type": "code",
   "execution_count": 140,
   "id": "ae650326",
   "metadata": {},
   "outputs": [],
   "source": [
    "sch_type_grp = sch_summ_df.groupby('School Type')"
   ]
  },
  {
   "cell_type": "markdown",
   "id": "d2d1b175",
   "metadata": {},
   "source": [
    "**- Create the Scores by School Type DataFrame by taking the mean on the School Summary DataFrame metrics.**"
   ]
  },
  {
   "cell_type": "code",
   "execution_count": 141,
   "id": "d494009d",
   "metadata": {},
   "outputs": [],
   "source": [
    "sc_by_sch_type_df = sch_type_grp[[\n",
    "    'Average Math Score', 'Average Reading Score', '% Passing Math', '% Passing Reading', '% Overall Passing'\n",
    "]].mean()"
   ]
  },
  {
   "cell_type": "markdown",
   "id": "5011ba7a",
   "metadata": {},
   "source": [
    "**- Apply formatting to the metrics in the Scores by School Type DataFrame.**"
   ]
  },
  {
   "cell_type": "code",
   "execution_count": 142,
   "id": "a10d0495",
   "metadata": {},
   "outputs": [],
   "source": [
    "sc_by_sch_type_df['% Passing Math'] = sc_by_sch_type_df['% Passing Math'].map(\"{:.2f}%\".format)\n",
    "sc_by_sch_type_df['% Passing Reading'] = sc_by_sch_type_df['% Passing Reading'].map(\"{:.2f}%\".format)\n",
    "sc_by_sch_type_df['% Overall Passing'] = sc_by_sch_type_df['% Overall Passing'].map(\"{:.2f}%\".format)"
   ]
  },
  {
   "cell_type": "markdown",
   "id": "902e5cf2",
   "metadata": {},
   "source": [
    "**- Display the Scores by School Type DataFrame.**"
   ]
  },
  {
   "cell_type": "code",
   "execution_count": 143,
   "id": "0fcf12ac",
   "metadata": {
    "scrolled": false
   },
   "outputs": [
    {
     "data": {
      "text/html": [
       "<div>\n",
       "<style scoped>\n",
       "    .dataframe tbody tr th:only-of-type {\n",
       "        vertical-align: middle;\n",
       "    }\n",
       "\n",
       "    .dataframe tbody tr th {\n",
       "        vertical-align: top;\n",
       "    }\n",
       "\n",
       "    .dataframe thead th {\n",
       "        text-align: right;\n",
       "    }\n",
       "</style>\n",
       "<table border=\"1\" class=\"dataframe\">\n",
       "  <thead>\n",
       "    <tr style=\"text-align: right;\">\n",
       "      <th></th>\n",
       "      <th>Average Math Score</th>\n",
       "      <th>Average Reading Score</th>\n",
       "      <th>% Passing Math</th>\n",
       "      <th>% Passing Reading</th>\n",
       "      <th>% Overall Passing</th>\n",
       "    </tr>\n",
       "    <tr>\n",
       "      <th>School Type</th>\n",
       "      <th></th>\n",
       "      <th></th>\n",
       "      <th></th>\n",
       "      <th></th>\n",
       "      <th></th>\n",
       "    </tr>\n",
       "  </thead>\n",
       "  <tbody>\n",
       "    <tr>\n",
       "      <th>Charter</th>\n",
       "      <td>83.473852</td>\n",
       "      <td>83.896421</td>\n",
       "      <td>93.62%</td>\n",
       "      <td>96.59%</td>\n",
       "      <td>90.43%</td>\n",
       "    </tr>\n",
       "    <tr>\n",
       "      <th>District</th>\n",
       "      <td>76.956733</td>\n",
       "      <td>80.966636</td>\n",
       "      <td>66.55%</td>\n",
       "      <td>80.80%</td>\n",
       "      <td>53.67%</td>\n",
       "    </tr>\n",
       "  </tbody>\n",
       "</table>\n",
       "</div>"
      ],
      "text/plain": [
       "             Average Math Score  Average Reading Score % Passing Math  \\\n",
       "School Type                                                             \n",
       "Charter               83.473852              83.896421         93.62%   \n",
       "District              76.956733              80.966636         66.55%   \n",
       "\n",
       "            % Passing Reading % Overall Passing  \n",
       "School Type                                      \n",
       "Charter                96.59%            90.43%  \n",
       "District               80.80%            53.67%  "
      ]
     },
     "execution_count": 143,
     "metadata": {},
     "output_type": "execute_result"
    }
   ],
   "source": [
    "sc_by_sch_type_df"
   ]
  },
  {
   "cell_type": "markdown",
   "id": "ffce60f9",
   "metadata": {},
   "source": [
    "#  Analysis on School Performance\n",
    "My observations on aggregated data:"
   ]
  },
  {
   "cell_type": "markdown",
   "id": "4420a095",
   "metadata": {},
   "source": [
    "1. As a whole, the district's school performance is poor: Despite 74.98% of students passing math and 85.81% of students passing reading, only **65.17%** is passing both math and reading (i.e. overall), which is below the 70% requirement as passing.\n",
    "2. The top 5 schools in overall passing % are all charter schools; in contrast, the bottom 5 schools in overall passing % are all district schools. Overall, **90.43%** of charter schools' students passed both math and reading; in contrast, only **53.67%** of district schools' students passed both math and reading.\n",
    "    - Note that charter schools have less students than district schools. However, this doesn't imply a higher budget per student; in fact, charter schools have a lower budget per student than district schools (\\\\$578 to \\\\$638 for charter schools versus \\\\$622 to \\\\$655 for district schools). \n",
    "        - Thus, the per student budget amount is not indicative of school performance (90.37% versus 53.53% overall passing between schools with a per student budget of less than \\\\$585 versus a per student budget of more than \\\\$645).\n",
    "        - Only 58.29% of students in the eight schools that have more than 2,000 students passed both math and reading. Only one of these schools was a charter school (Wilson High School), with 90.58% of its students passing both math and reading. \n",
    "    - The difference in percentage of students passing math between charter and district schools is much starker than that of students passing reading (93.62% of charter school students versus 66.55% of district students).\n",
    "\n",
    "**Therefore, the district's overall school performance can be best explained by its stark dichotomy between its charter and district schools.**"
   ]
  },
  {
   "cell_type": "code",
   "execution_count": null,
   "id": "410edb38",
   "metadata": {},
   "outputs": [],
   "source": []
  }
 ],
 "metadata": {
  "kernelspec": {
   "display_name": "PythonData",
   "language": "python",
   "name": "pythondata"
  },
  "language_info": {
   "codemirror_mode": {
    "name": "ipython",
    "version": 3
   },
   "file_extension": ".py",
   "mimetype": "text/x-python",
   "name": "python",
   "nbconvert_exporter": "python",
   "pygments_lexer": "ipython3",
   "version": "3.9.7"
  }
 },
 "nbformat": 4,
 "nbformat_minor": 5
}
